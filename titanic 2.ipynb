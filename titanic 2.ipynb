{
 "cells": [
  {
   "cell_type": "code",
   "execution_count": 1,
   "metadata": {},
   "outputs": [],
   "source": [
    "import pandas as pd\n",
    "import numpy as np\n",
    "import matplotlib.pyplot as plt\n",
    "import seaborn as sn\n",
    "%matplotlib inline"
   ]
  },
  {
   "cell_type": "markdown",
   "metadata": {},
   "source": [
    "Acquire data"
   ]
  },
  {
   "cell_type": "code",
   "execution_count": 4,
   "metadata": {},
   "outputs": [],
   "source": [
    "train_df=pd.read_csv('D:\\\\Gandhi\\\\Machine Learning\\\\Datasets\\\\Titanic\\\\train.csv')\n",
    "test_df=pd.read_csv('D:\\\\Gandhi\\\\Machine Learning\\\\Datasets\\\\Titanic\\\\test.csv')\n",
    "combine=[train_df,test_df]"
   ]
  },
  {
   "cell_type": "markdown",
   "metadata": {},
   "source": [
    "Analyze by describing data:\n",
    "1)Which features are available in the dataset?"
   ]
  },
  {
   "cell_type": "code",
   "execution_count": 5,
   "metadata": {},
   "outputs": [
    {
     "data": {
      "text/plain": [
       "Index(['PassengerId', 'Survived', 'Pclass', 'Name', 'Sex', 'Age', 'SibSp',\n",
       "       'Parch', 'Ticket', 'Fare', 'Cabin', 'Embarked'],\n",
       "      dtype='object')"
      ]
     },
     "execution_count": 5,
     "metadata": {},
     "output_type": "execute_result"
    }
   ],
   "source": [
    "train_df.columns"
   ]
  },
  {
   "cell_type": "markdown",
   "metadata": {},
   "source": [
    "Which features are categorical?\n",
    "Nominal=Survived,Sex,Embarked.\n",
    "Ordinal=Pclass"
   ]
  },
  {
   "cell_type": "markdown",
   "metadata": {},
   "source": [
    "Which features are numerical?\n",
    "Continous=Age,Fare\n",
    "Discrete=SibSp,Parch"
   ]
  },
  {
   "cell_type": "code",
   "execution_count": 7,
   "metadata": {},
   "outputs": [
    {
     "data": {
      "text/html": [
       "<div>\n",
       "<style scoped>\n",
       "    .dataframe tbody tr th:only-of-type {\n",
       "        vertical-align: middle;\n",
       "    }\n",
       "\n",
       "    .dataframe tbody tr th {\n",
       "        vertical-align: top;\n",
       "    }\n",
       "\n",
       "    .dataframe thead th {\n",
       "        text-align: right;\n",
       "    }\n",
       "</style>\n",
       "<table border=\"1\" class=\"dataframe\">\n",
       "  <thead>\n",
       "    <tr style=\"text-align: right;\">\n",
       "      <th></th>\n",
       "      <th>PassengerId</th>\n",
       "      <th>Survived</th>\n",
       "      <th>Pclass</th>\n",
       "      <th>Name</th>\n",
       "      <th>Sex</th>\n",
       "      <th>Age</th>\n",
       "      <th>SibSp</th>\n",
       "      <th>Parch</th>\n",
       "      <th>Ticket</th>\n",
       "      <th>Fare</th>\n",
       "      <th>Cabin</th>\n",
       "      <th>Embarked</th>\n",
       "    </tr>\n",
       "  </thead>\n",
       "  <tbody>\n",
       "    <tr>\n",
       "      <th>0</th>\n",
       "      <td>1</td>\n",
       "      <td>0</td>\n",
       "      <td>3</td>\n",
       "      <td>Braund, Mr. Owen Harris</td>\n",
       "      <td>male</td>\n",
       "      <td>22.0</td>\n",
       "      <td>1</td>\n",
       "      <td>0</td>\n",
       "      <td>A/5 21171</td>\n",
       "      <td>7.2500</td>\n",
       "      <td>NaN</td>\n",
       "      <td>S</td>\n",
       "    </tr>\n",
       "    <tr>\n",
       "      <th>1</th>\n",
       "      <td>2</td>\n",
       "      <td>1</td>\n",
       "      <td>1</td>\n",
       "      <td>Cumings, Mrs. John Bradley (Florence Briggs Th...</td>\n",
       "      <td>female</td>\n",
       "      <td>38.0</td>\n",
       "      <td>1</td>\n",
       "      <td>0</td>\n",
       "      <td>PC 17599</td>\n",
       "      <td>71.2833</td>\n",
       "      <td>C85</td>\n",
       "      <td>C</td>\n",
       "    </tr>\n",
       "    <tr>\n",
       "      <th>2</th>\n",
       "      <td>3</td>\n",
       "      <td>1</td>\n",
       "      <td>3</td>\n",
       "      <td>Heikkinen, Miss. Laina</td>\n",
       "      <td>female</td>\n",
       "      <td>26.0</td>\n",
       "      <td>0</td>\n",
       "      <td>0</td>\n",
       "      <td>STON/O2. 3101282</td>\n",
       "      <td>7.9250</td>\n",
       "      <td>NaN</td>\n",
       "      <td>S</td>\n",
       "    </tr>\n",
       "    <tr>\n",
       "      <th>3</th>\n",
       "      <td>4</td>\n",
       "      <td>1</td>\n",
       "      <td>1</td>\n",
       "      <td>Futrelle, Mrs. Jacques Heath (Lily May Peel)</td>\n",
       "      <td>female</td>\n",
       "      <td>35.0</td>\n",
       "      <td>1</td>\n",
       "      <td>0</td>\n",
       "      <td>113803</td>\n",
       "      <td>53.1000</td>\n",
       "      <td>C123</td>\n",
       "      <td>S</td>\n",
       "    </tr>\n",
       "    <tr>\n",
       "      <th>4</th>\n",
       "      <td>5</td>\n",
       "      <td>0</td>\n",
       "      <td>3</td>\n",
       "      <td>Allen, Mr. William Henry</td>\n",
       "      <td>male</td>\n",
       "      <td>35.0</td>\n",
       "      <td>0</td>\n",
       "      <td>0</td>\n",
       "      <td>373450</td>\n",
       "      <td>8.0500</td>\n",
       "      <td>NaN</td>\n",
       "      <td>S</td>\n",
       "    </tr>\n",
       "  </tbody>\n",
       "</table>\n",
       "</div>"
      ],
      "text/plain": [
       "   PassengerId  Survived  Pclass  \\\n",
       "0            1         0       3   \n",
       "1            2         1       1   \n",
       "2            3         1       3   \n",
       "3            4         1       1   \n",
       "4            5         0       3   \n",
       "\n",
       "                                                Name     Sex   Age  SibSp  \\\n",
       "0                            Braund, Mr. Owen Harris    male  22.0      1   \n",
       "1  Cumings, Mrs. John Bradley (Florence Briggs Th...  female  38.0      1   \n",
       "2                             Heikkinen, Miss. Laina  female  26.0      0   \n",
       "3       Futrelle, Mrs. Jacques Heath (Lily May Peel)  female  35.0      1   \n",
       "4                           Allen, Mr. William Henry    male  35.0      0   \n",
       "\n",
       "   Parch            Ticket     Fare Cabin Embarked  \n",
       "0      0         A/5 21171   7.2500   NaN        S  \n",
       "1      0          PC 17599  71.2833   C85        C  \n",
       "2      0  STON/O2. 3101282   7.9250   NaN        S  \n",
       "3      0            113803  53.1000  C123        S  \n",
       "4      0            373450   8.0500   NaN        S  "
      ]
     },
     "execution_count": 7,
     "metadata": {},
     "output_type": "execute_result"
    }
   ],
   "source": [
    "train_df.head()"
   ]
  },
  {
   "cell_type": "markdown",
   "metadata": {},
   "source": [
    "Which features contain blank, null or empty values?"
   ]
  },
  {
   "cell_type": "code",
   "execution_count": 9,
   "metadata": {},
   "outputs": [
    {
     "name": "stdout",
     "output_type": "stream",
     "text": [
      "<class 'pandas.core.frame.DataFrame'>\n",
      "RangeIndex: 891 entries, 0 to 890\n",
      "Data columns (total 12 columns):\n",
      "PassengerId    891 non-null int64\n",
      "Survived       891 non-null int64\n",
      "Pclass         891 non-null int64\n",
      "Name           891 non-null object\n",
      "Sex            891 non-null object\n",
      "Age            714 non-null float64\n",
      "SibSp          891 non-null int64\n",
      "Parch          891 non-null int64\n",
      "Ticket         891 non-null object\n",
      "Fare           891 non-null float64\n",
      "Cabin          204 non-null object\n",
      "Embarked       889 non-null object\n",
      "dtypes: float64(2), int64(5), object(5)\n",
      "memory usage: 83.6+ KB\n",
      "----------------------------------------\n",
      "<class 'pandas.core.frame.DataFrame'>\n",
      "RangeIndex: 418 entries, 0 to 417\n",
      "Data columns (total 11 columns):\n",
      "PassengerId    418 non-null int64\n",
      "Pclass         418 non-null int64\n",
      "Name           418 non-null object\n",
      "Sex            418 non-null object\n",
      "Age            332 non-null float64\n",
      "SibSp          418 non-null int64\n",
      "Parch          418 non-null int64\n",
      "Ticket         418 non-null object\n",
      "Fare           417 non-null float64\n",
      "Cabin          91 non-null object\n",
      "Embarked       418 non-null object\n",
      "dtypes: float64(2), int64(4), object(5)\n",
      "memory usage: 36.0+ KB\n"
     ]
    }
   ],
   "source": [
    "train_df.info()\n",
    "print('-'*40)\n",
    "test_df.info()"
   ]
  },
  {
   "cell_type": "markdown",
   "metadata": {},
   "source": [
    "Age,Cabin and Embarked has null values in train_df.\n",
    "\n",
    "\n",
    "Age, Fara and Cabin has null values in test_df"
   ]
  },
  {
   "cell_type": "markdown",
   "metadata": {},
   "source": [
    "What are the data types for various features?\n",
    "\n",
    "There are 7 integers and 5 objects in train dataset\n",
    "\n",
    "there are 6 integers and 5 objects in test dataset"
   ]
  },
  {
   "cell_type": "markdown",
   "metadata": {},
   "source": [
    "# What is the distribution of numerical feature values across the samples?"
   ]
  },
  {
   "cell_type": "code",
   "execution_count": 12,
   "metadata": {},
   "outputs": [
    {
     "data": {
      "text/html": [
       "<div>\n",
       "<style scoped>\n",
       "    .dataframe tbody tr th:only-of-type {\n",
       "        vertical-align: middle;\n",
       "    }\n",
       "\n",
       "    .dataframe tbody tr th {\n",
       "        vertical-align: top;\n",
       "    }\n",
       "\n",
       "    .dataframe thead th {\n",
       "        text-align: right;\n",
       "    }\n",
       "</style>\n",
       "<table border=\"1\" class=\"dataframe\">\n",
       "  <thead>\n",
       "    <tr style=\"text-align: right;\">\n",
       "      <th></th>\n",
       "      <th>PassengerId</th>\n",
       "      <th>Survived</th>\n",
       "      <th>Pclass</th>\n",
       "      <th>Age</th>\n",
       "      <th>SibSp</th>\n",
       "      <th>Parch</th>\n",
       "      <th>Fare</th>\n",
       "    </tr>\n",
       "  </thead>\n",
       "  <tbody>\n",
       "    <tr>\n",
       "      <th>count</th>\n",
       "      <td>891.000000</td>\n",
       "      <td>891.000000</td>\n",
       "      <td>891.000000</td>\n",
       "      <td>714.000000</td>\n",
       "      <td>891.000000</td>\n",
       "      <td>891.000000</td>\n",
       "      <td>891.000000</td>\n",
       "    </tr>\n",
       "    <tr>\n",
       "      <th>mean</th>\n",
       "      <td>446.000000</td>\n",
       "      <td>0.383838</td>\n",
       "      <td>2.308642</td>\n",
       "      <td>29.699118</td>\n",
       "      <td>0.523008</td>\n",
       "      <td>0.381594</td>\n",
       "      <td>32.204208</td>\n",
       "    </tr>\n",
       "    <tr>\n",
       "      <th>std</th>\n",
       "      <td>257.353842</td>\n",
       "      <td>0.486592</td>\n",
       "      <td>0.836071</td>\n",
       "      <td>14.526497</td>\n",
       "      <td>1.102743</td>\n",
       "      <td>0.806057</td>\n",
       "      <td>49.693429</td>\n",
       "    </tr>\n",
       "    <tr>\n",
       "      <th>min</th>\n",
       "      <td>1.000000</td>\n",
       "      <td>0.000000</td>\n",
       "      <td>1.000000</td>\n",
       "      <td>0.420000</td>\n",
       "      <td>0.000000</td>\n",
       "      <td>0.000000</td>\n",
       "      <td>0.000000</td>\n",
       "    </tr>\n",
       "    <tr>\n",
       "      <th>25%</th>\n",
       "      <td>223.500000</td>\n",
       "      <td>0.000000</td>\n",
       "      <td>2.000000</td>\n",
       "      <td>20.125000</td>\n",
       "      <td>0.000000</td>\n",
       "      <td>0.000000</td>\n",
       "      <td>7.910400</td>\n",
       "    </tr>\n",
       "    <tr>\n",
       "      <th>50%</th>\n",
       "      <td>446.000000</td>\n",
       "      <td>0.000000</td>\n",
       "      <td>3.000000</td>\n",
       "      <td>28.000000</td>\n",
       "      <td>0.000000</td>\n",
       "      <td>0.000000</td>\n",
       "      <td>14.454200</td>\n",
       "    </tr>\n",
       "    <tr>\n",
       "      <th>75%</th>\n",
       "      <td>668.500000</td>\n",
       "      <td>1.000000</td>\n",
       "      <td>3.000000</td>\n",
       "      <td>38.000000</td>\n",
       "      <td>1.000000</td>\n",
       "      <td>0.000000</td>\n",
       "      <td>31.000000</td>\n",
       "    </tr>\n",
       "    <tr>\n",
       "      <th>max</th>\n",
       "      <td>891.000000</td>\n",
       "      <td>1.000000</td>\n",
       "      <td>3.000000</td>\n",
       "      <td>80.000000</td>\n",
       "      <td>8.000000</td>\n",
       "      <td>6.000000</td>\n",
       "      <td>512.329200</td>\n",
       "    </tr>\n",
       "  </tbody>\n",
       "</table>\n",
       "</div>"
      ],
      "text/plain": [
       "       PassengerId    Survived      Pclass         Age       SibSp  \\\n",
       "count   891.000000  891.000000  891.000000  714.000000  891.000000   \n",
       "mean    446.000000    0.383838    2.308642   29.699118    0.523008   \n",
       "std     257.353842    0.486592    0.836071   14.526497    1.102743   \n",
       "min       1.000000    0.000000    1.000000    0.420000    0.000000   \n",
       "25%     223.500000    0.000000    2.000000   20.125000    0.000000   \n",
       "50%     446.000000    0.000000    3.000000   28.000000    0.000000   \n",
       "75%     668.500000    1.000000    3.000000   38.000000    1.000000   \n",
       "max     891.000000    1.000000    3.000000   80.000000    8.000000   \n",
       "\n",
       "            Parch        Fare  \n",
       "count  891.000000  891.000000  \n",
       "mean     0.381594   32.204208  \n",
       "std      0.806057   49.693429  \n",
       "min      0.000000    0.000000  \n",
       "25%      0.000000    7.910400  \n",
       "50%      0.000000   14.454200  \n",
       "75%      0.000000   31.000000  \n",
       "max      6.000000  512.329200  "
      ]
     },
     "execution_count": 12,
     "metadata": {},
     "output_type": "execute_result"
    }
   ],
   "source": [
    "train_df.describe()"
   ]
  },
  {
   "cell_type": "markdown",
   "metadata": {},
   "source": [
    "Observations:\n",
    "    \n",
    "    1.total count is 891\n",
    "    \n",
    "    2.Survived is either 1 or 0. and 38% of people survived.\n",
    "    \n",
    "    3.Passenger class is ordinal which is class 1, class 2, class 3\n",
    "    \n",
    "    4.Oldest person is 80 years of age\n"
   ]
  },
  {
   "cell_type": "markdown",
   "metadata": {},
   "source": [
    "# What is the distribution of categorical features?"
   ]
  },
  {
   "cell_type": "code",
   "execution_count": 15,
   "metadata": {},
   "outputs": [
    {
     "data": {
      "text/html": [
       "<div>\n",
       "<style scoped>\n",
       "    .dataframe tbody tr th:only-of-type {\n",
       "        vertical-align: middle;\n",
       "    }\n",
       "\n",
       "    .dataframe tbody tr th {\n",
       "        vertical-align: top;\n",
       "    }\n",
       "\n",
       "    .dataframe thead th {\n",
       "        text-align: right;\n",
       "    }\n",
       "</style>\n",
       "<table border=\"1\" class=\"dataframe\">\n",
       "  <thead>\n",
       "    <tr style=\"text-align: right;\">\n",
       "      <th></th>\n",
       "      <th>Name</th>\n",
       "      <th>Sex</th>\n",
       "      <th>Ticket</th>\n",
       "      <th>Cabin</th>\n",
       "      <th>Embarked</th>\n",
       "    </tr>\n",
       "  </thead>\n",
       "  <tbody>\n",
       "    <tr>\n",
       "      <th>count</th>\n",
       "      <td>891</td>\n",
       "      <td>891</td>\n",
       "      <td>891</td>\n",
       "      <td>204</td>\n",
       "      <td>889</td>\n",
       "    </tr>\n",
       "    <tr>\n",
       "      <th>unique</th>\n",
       "      <td>891</td>\n",
       "      <td>2</td>\n",
       "      <td>681</td>\n",
       "      <td>147</td>\n",
       "      <td>3</td>\n",
       "    </tr>\n",
       "    <tr>\n",
       "      <th>top</th>\n",
       "      <td>Moor, Mrs. (Beila)</td>\n",
       "      <td>male</td>\n",
       "      <td>1601</td>\n",
       "      <td>G6</td>\n",
       "      <td>S</td>\n",
       "    </tr>\n",
       "    <tr>\n",
       "      <th>freq</th>\n",
       "      <td>1</td>\n",
       "      <td>577</td>\n",
       "      <td>7</td>\n",
       "      <td>4</td>\n",
       "      <td>644</td>\n",
       "    </tr>\n",
       "  </tbody>\n",
       "</table>\n",
       "</div>"
      ],
      "text/plain": [
       "                      Name   Sex Ticket Cabin Embarked\n",
       "count                  891   891    891   204      889\n",
       "unique                 891     2    681   147        3\n",
       "top     Moor, Mrs. (Beila)  male   1601    G6        S\n",
       "freq                     1   577      7     4      644"
      ]
     },
     "execution_count": 15,
     "metadata": {},
     "output_type": "execute_result"
    }
   ],
   "source": [
    "train_df.describe(include=['O'])"
   ]
  },
  {
   "cell_type": "markdown",
   "metadata": {},
   "source": [
    "Observations:\n",
    "    \n",
    "    1.All names are unique\n",
    "    \n",
    "    2.More male(577) than female\n",
    "    \n",
    "    3.Embarked has 3 unique values\n",
    "    "
   ]
  },
  {
   "cell_type": "markdown",
   "metadata": {},
   "source": [
    "We have to make our analysis at this stage. Then we need to compare our analysis with the actual analysis and validate it.\n",
    "\n",
    "Assumtions based on data analysis\n",
    "We arrive at following assumptions based on data analysis done so far. We may validate these assumptions further before taking appropriate actions.\n",
    "\n",
    "Correlating.\n",
    "\n",
    "We want to know how well does each feature correlate with Survival. We want to do this early in our project and match these quick correlations with modelled correlations later in the project.\n",
    "\n",
    "Completing(fillna).\n",
    "\n",
    "We may want to complete Age feature as it is definitely correlated to survival.\n",
    "We may want to complete the Embarked feature as it may also correlate with survival or another important feature.\n",
    "\n",
    "Correcting(dropna).\n",
    "\n",
    "Ticket feature may be dropped from our analysis as it contains high ratio of duplicates (22%) and there may not be a correlation between Ticket and survival.\n",
    "Cabin feature may be dropped as it is highly incomplete or contains many null values both in training and test dataset.\n",
    "PassengerId may be dropped from training dataset as it does not contribute to survival.\n",
    "Name feature is relatively non-standard, may not contribute directly to survival, so maybe dropped.\n",
    "\n",
    "Creating(new feature).\n",
    "\n",
    "We may want to create a new feature called Family based on Parch and SibSp to get total count of family members on board.\n",
    "We may want to engineer the Name feature to extract Title as a new feature.\n",
    "We may want to create new feature for Age bands. This turns a continous numerical feature into an ordinal categorical feature.\n",
    "We may also want to create a Fare range feature if it helps our analysis.\n",
    "\n",
    "Classifying.\n",
    "\n",
    "We may also add to our assumptions based on the problem description noted earlier.\n",
    "\n",
    "Women (Sex=female) were more likely to have survived.\n",
    "Children (Age<?) were more likely to have survived.\n",
    "The upper-class passengers (Pclass=1) were more likely to have survived."
   ]
  },
  {
   "cell_type": "markdown",
   "metadata": {},
   "source": [
    "# Analyze by pivoting features"
   ]
  },
  {
   "cell_type": "raw",
   "metadata": {},
   "source": [
    "This is done only for  categorical (Sex), ordinal (Pclass) or discrete (SibSp, Parch) type."
   ]
  },
  {
   "cell_type": "code",
   "execution_count": 20,
   "metadata": {},
   "outputs": [
    {
     "data": {
      "text/html": [
       "<div>\n",
       "<style scoped>\n",
       "    .dataframe tbody tr th:only-of-type {\n",
       "        vertical-align: middle;\n",
       "    }\n",
       "\n",
       "    .dataframe tbody tr th {\n",
       "        vertical-align: top;\n",
       "    }\n",
       "\n",
       "    .dataframe thead th {\n",
       "        text-align: right;\n",
       "    }\n",
       "</style>\n",
       "<table border=\"1\" class=\"dataframe\">\n",
       "  <thead>\n",
       "    <tr style=\"text-align: right;\">\n",
       "      <th></th>\n",
       "      <th>Pclass</th>\n",
       "      <th>Survived</th>\n",
       "    </tr>\n",
       "  </thead>\n",
       "  <tbody>\n",
       "    <tr>\n",
       "      <th>0</th>\n",
       "      <td>1</td>\n",
       "      <td>0.629630</td>\n",
       "    </tr>\n",
       "    <tr>\n",
       "      <th>1</th>\n",
       "      <td>2</td>\n",
       "      <td>0.472826</td>\n",
       "    </tr>\n",
       "    <tr>\n",
       "      <th>2</th>\n",
       "      <td>3</td>\n",
       "      <td>0.242363</td>\n",
       "    </tr>\n",
       "  </tbody>\n",
       "</table>\n",
       "</div>"
      ],
      "text/plain": [
       "   Pclass  Survived\n",
       "0       1  0.629630\n",
       "1       2  0.472826\n",
       "2       3  0.242363"
      ]
     },
     "execution_count": 20,
     "metadata": {},
     "output_type": "execute_result"
    }
   ],
   "source": [
    "train_df[['Pclass','Survived']].groupby(['Pclass'],as_index=False).mean().sort_values(by='Survived',ascending=False)\n",
    "#Pclass 1 has more survival rate "
   ]
  },
  {
   "cell_type": "code",
   "execution_count": 25,
   "metadata": {},
   "outputs": [
    {
     "data": {
      "text/html": [
       "<div>\n",
       "<style scoped>\n",
       "    .dataframe tbody tr th:only-of-type {\n",
       "        vertical-align: middle;\n",
       "    }\n",
       "\n",
       "    .dataframe tbody tr th {\n",
       "        vertical-align: top;\n",
       "    }\n",
       "\n",
       "    .dataframe thead th {\n",
       "        text-align: right;\n",
       "    }\n",
       "</style>\n",
       "<table border=\"1\" class=\"dataframe\">\n",
       "  <thead>\n",
       "    <tr style=\"text-align: right;\">\n",
       "      <th></th>\n",
       "      <th>Sex</th>\n",
       "      <th>Survived</th>\n",
       "    </tr>\n",
       "  </thead>\n",
       "  <tbody>\n",
       "    <tr>\n",
       "      <th>0</th>\n",
       "      <td>female</td>\n",
       "      <td>0.742038</td>\n",
       "    </tr>\n",
       "    <tr>\n",
       "      <th>1</th>\n",
       "      <td>male</td>\n",
       "      <td>0.188908</td>\n",
       "    </tr>\n",
       "  </tbody>\n",
       "</table>\n",
       "</div>"
      ],
      "text/plain": [
       "      Sex  Survived\n",
       "0  female  0.742038\n",
       "1    male  0.188908"
      ]
     },
     "execution_count": 25,
     "metadata": {},
     "output_type": "execute_result"
    }
   ],
   "source": [
    "train_df[['Sex','Survived']].groupby(['Sex'],as_index=False).mean().sort_values(by='Survived',ascending=False)\n",
    "#More female has survived when compared to male"
   ]
  },
  {
   "cell_type": "code",
   "execution_count": 27,
   "metadata": {},
   "outputs": [
    {
     "data": {
      "text/html": [
       "<div>\n",
       "<style scoped>\n",
       "    .dataframe tbody tr th:only-of-type {\n",
       "        vertical-align: middle;\n",
       "    }\n",
       "\n",
       "    .dataframe tbody tr th {\n",
       "        vertical-align: top;\n",
       "    }\n",
       "\n",
       "    .dataframe thead th {\n",
       "        text-align: right;\n",
       "    }\n",
       "</style>\n",
       "<table border=\"1\" class=\"dataframe\">\n",
       "  <thead>\n",
       "    <tr style=\"text-align: right;\">\n",
       "      <th></th>\n",
       "      <th>SibSp</th>\n",
       "      <th>Survived</th>\n",
       "    </tr>\n",
       "  </thead>\n",
       "  <tbody>\n",
       "    <tr>\n",
       "      <th>1</th>\n",
       "      <td>1</td>\n",
       "      <td>0.535885</td>\n",
       "    </tr>\n",
       "    <tr>\n",
       "      <th>2</th>\n",
       "      <td>2</td>\n",
       "      <td>0.464286</td>\n",
       "    </tr>\n",
       "    <tr>\n",
       "      <th>0</th>\n",
       "      <td>0</td>\n",
       "      <td>0.345395</td>\n",
       "    </tr>\n",
       "    <tr>\n",
       "      <th>3</th>\n",
       "      <td>3</td>\n",
       "      <td>0.250000</td>\n",
       "    </tr>\n",
       "    <tr>\n",
       "      <th>4</th>\n",
       "      <td>4</td>\n",
       "      <td>0.166667</td>\n",
       "    </tr>\n",
       "    <tr>\n",
       "      <th>5</th>\n",
       "      <td>5</td>\n",
       "      <td>0.000000</td>\n",
       "    </tr>\n",
       "    <tr>\n",
       "      <th>6</th>\n",
       "      <td>8</td>\n",
       "      <td>0.000000</td>\n",
       "    </tr>\n",
       "  </tbody>\n",
       "</table>\n",
       "</div>"
      ],
      "text/plain": [
       "   SibSp  Survived\n",
       "1      1  0.535885\n",
       "2      2  0.464286\n",
       "0      0  0.345395\n",
       "3      3  0.250000\n",
       "4      4  0.166667\n",
       "5      5  0.000000\n",
       "6      8  0.000000"
      ]
     },
     "execution_count": 27,
     "metadata": {},
     "output_type": "execute_result"
    }
   ],
   "source": [
    "train_df[['SibSp','Survived']].groupby(['SibSp'],as_index=False).mean().sort_values(by='Survived',ascending=False)\n",
    "#People having atleast 1 sibling has survived more"
   ]
  },
  {
   "cell_type": "code",
   "execution_count": 28,
   "metadata": {},
   "outputs": [
    {
     "data": {
      "text/html": [
       "<div>\n",
       "<style scoped>\n",
       "    .dataframe tbody tr th:only-of-type {\n",
       "        vertical-align: middle;\n",
       "    }\n",
       "\n",
       "    .dataframe tbody tr th {\n",
       "        vertical-align: top;\n",
       "    }\n",
       "\n",
       "    .dataframe thead th {\n",
       "        text-align: right;\n",
       "    }\n",
       "</style>\n",
       "<table border=\"1\" class=\"dataframe\">\n",
       "  <thead>\n",
       "    <tr style=\"text-align: right;\">\n",
       "      <th></th>\n",
       "      <th>Parch</th>\n",
       "      <th>Survived</th>\n",
       "    </tr>\n",
       "  </thead>\n",
       "  <tbody>\n",
       "    <tr>\n",
       "      <th>3</th>\n",
       "      <td>3</td>\n",
       "      <td>0.600000</td>\n",
       "    </tr>\n",
       "    <tr>\n",
       "      <th>1</th>\n",
       "      <td>1</td>\n",
       "      <td>0.550847</td>\n",
       "    </tr>\n",
       "    <tr>\n",
       "      <th>2</th>\n",
       "      <td>2</td>\n",
       "      <td>0.500000</td>\n",
       "    </tr>\n",
       "    <tr>\n",
       "      <th>0</th>\n",
       "      <td>0</td>\n",
       "      <td>0.343658</td>\n",
       "    </tr>\n",
       "    <tr>\n",
       "      <th>5</th>\n",
       "      <td>5</td>\n",
       "      <td>0.200000</td>\n",
       "    </tr>\n",
       "    <tr>\n",
       "      <th>4</th>\n",
       "      <td>4</td>\n",
       "      <td>0.000000</td>\n",
       "    </tr>\n",
       "    <tr>\n",
       "      <th>6</th>\n",
       "      <td>6</td>\n",
       "      <td>0.000000</td>\n",
       "    </tr>\n",
       "  </tbody>\n",
       "</table>\n",
       "</div>"
      ],
      "text/plain": [
       "   Parch  Survived\n",
       "3      3  0.600000\n",
       "1      1  0.550847\n",
       "2      2  0.500000\n",
       "0      0  0.343658\n",
       "5      5  0.200000\n",
       "4      4  0.000000\n",
       "6      6  0.000000"
      ]
     },
     "execution_count": 28,
     "metadata": {},
     "output_type": "execute_result"
    }
   ],
   "source": [
    "train_df[['Parch','Survived']].groupby(['Parch'],as_index=False).mean().sort_values(by='Survived',ascending=False)"
   ]
  },
  {
   "cell_type": "markdown",
   "metadata": {},
   "source": [
    "Pclass We observe significant correlation (>0.5) among Pclass=1 and Survived (classifying #3). We decide to include this feature in our model.\n",
    "                                                                              \n",
    "Sex We confirm the observation during problem definition that Sex=female had very high survival rate at 74% (classifying #1).\n",
    "                                                                                                             \n",
    "SibSp and Parch These features have zero correlation for certain values. It may be best to derive a feature or a set of features from these individual features (creating #1)."
   ]
  },
  {
   "cell_type": "markdown",
   "metadata": {},
   "source": [
    "# Analyze by visualizing data\n",
    "## Correlating numerical features\n",
    "### A histogram chart is useful for analyzing continous numerical variables like Age where banding or ranges will help identify useful patterns. The histogram can indicate distribution of samples using automatically defined bins or equally ranged bands. This helps us answer questions relating to specific bands (Did infants have better survival rate?)"
   ]
  },
  {
   "cell_type": "code",
   "execution_count": 31,
   "metadata": {},
   "outputs": [
    {
     "data": {
      "text/plain": [
       "<seaborn.axisgrid.FacetGrid at 0x25648e68470>"
      ]
     },
     "execution_count": 31,
     "metadata": {},
     "output_type": "execute_result"
    },
    {
     "data": {
      "image/png": "[encoded data removed]",
      "text/plain": [
       "<Figure size 432x216 with 2 Axes>"
      ]
     },
     "metadata": {
      "needs_background": "light"
     },
     "output_type": "display_data"
    }
   ],
   "source": [
    "g=sn.FacetGrid(train_df,col='Survived')\n",
    "g.map(plt.hist,'Age',bins=30)"
   ]
  },
  {
   "cell_type": "markdown",
   "metadata": {},
   "source": [
    "Observations:\n",
    "\n",
    "    1.Infants survived  more.\n",
    "    \n",
    "    2.People who r around 80 have survived\n",
    "    \n",
    "    3.Death is more btw 15 to 30\n",
    "    \n",
    "    4.Most people are there btw 15 to 35\n",
    "\n",
    "Decisions:\n",
    "\n",
    "    1.Age column has to be considered.\n",
    "    \n",
    "    2.Age has to be divided as groups or ranges"
   ]
  },
  {
   "cell_type": "markdown",
   "metadata": {},
   "source": [
    "# Correlating numerical and ordinal features"
   ]
  },
  {
   "cell_type": "code",
   "execution_count": 45,
   "metadata": {},
   "outputs": [
    {
     "data": {
      "text/plain": [
       "<seaborn.axisgrid.FacetGrid at 0x2564caec358>"
      ]
     },
     "execution_count": 45,
     "metadata": {},
     "output_type": "execute_result"
    },
    {
     "data": {
      "image/png": "[encoded data removed]",
      "text/plain": [
       "<Figure size 432x648 with 6 Axes>"
      ]
     },
     "metadata": {
      "needs_background": "light"
     },
     "output_type": "display_data"
    }
   ],
   "source": [
    "grid=sn.FacetGrid(train_df,col='Survived',row='Pclass')\n",
    "grid.map(plt.hist,'Age',bins=20)\n",
    "#grid.add_legend()\n",
    "\n"
   ]
  },
  {
   "cell_type": "markdown",
   "metadata": {},
   "source": [
    "Observation:\n",
    "    \n",
    "    1.Pclass 1 has more survival rate\n",
    "    \n",
    "    2.Pclass 3 has more death rate\n",
    "    \n",
    "Decision:\n",
    "    \n",
    "    Since Pclass varies with age, we need to consider this feature"
   ]
  },
  {
   "cell_type": "markdown",
   "metadata": {},
   "source": [
    "# Correlating categorical features"
   ]
  },
  {
   "cell_type": "code",
   "execution_count": 53,
   "metadata": {},
   "outputs": [
    {
     "name": "stderr",
     "output_type": "stream",
     "text": [
      "C:\\ProgramData\\Anaconda3\\lib\\site-packages\\seaborn\\axisgrid.py:715: UserWarning: Using the pointplot function without specifying `order` is likely to produce an incorrect plot.\n",
      "  warnings.warn(warning)\n",
      "C:\\ProgramData\\Anaconda3\\lib\\site-packages\\seaborn\\axisgrid.py:720: UserWarning: Using the pointplot function without specifying `hue_order` is likely to produce an incorrect plot.\n",
      "  warnings.warn(warning)\n",
      "C:\\ProgramData\\Anaconda3\\lib\\site-packages\\scipy\\stats\\stats.py:1713: FutureWarning: Using a non-tuple sequence for multidimensional indexing is deprecated; use `arr[tuple(seq)]` instead of `arr[seq]`. In the future this will be interpreted as an array index, `arr[np.array(seq)]`, which will result either in an error or a different result.\n",
      "  return np.add.reduce(sorted[indexer] * weights, axis=axis) / sumval\n"
     ]
    },
    {
     "data": {
      "text/plain": [
       "<seaborn.axisgrid.FacetGrid at 0x2564e4c5f60>"
      ]
     },
     "execution_count": 53,
     "metadata": {},
     "output_type": "execute_result"
    },
    {
     "data": {
      "image/png": "[encoded data removed]",
      "text/plain": [
       "<Figure size 286.5x648 with 3 Axes>"
      ]
     },
     "metadata": {
      "needs_background": "light"
     },
     "output_type": "display_data"
    }
   ],
   "source": [
    "grid=sn.FacetGrid(train_df,row='Embarked')\n",
    "grid.map(sn.pointplot,'Pclass','Survived','Sex',palette='deep')\n",
    "grid.add_legend()"
   ]
  },
  {
   "cell_type": "code",
   "execution_count": 56,
   "metadata": {},
   "outputs": [
    {
     "name": "stderr",
     "output_type": "stream",
     "text": [
      "C:\\ProgramData\\Anaconda3\\lib\\site-packages\\seaborn\\axisgrid.py:715: UserWarning: Using the barplot function without specifying `order` is likely to produce an incorrect plot.\n",
      "  warnings.warn(warning)\n",
      "C:\\ProgramData\\Anaconda3\\lib\\site-packages\\scipy\\stats\\stats.py:1713: FutureWarning: Using a non-tuple sequence for multidimensional indexing is deprecated; use `arr[tuple(seq)]` instead of `arr[seq]`. In the future this will be interpreted as an array index, `arr[np.array(seq)]`, which will result either in an error or a different result.\n",
      "  return np.add.reduce(sorted[indexer] * weights, axis=axis) / sumval\n"
     ]
    },
    {
     "data": {
      "text/plain": [
       "<seaborn.axisgrid.FacetGrid at 0x2564e74beb8>"
      ]
     },
     "execution_count": 56,
     "metadata": {},
     "output_type": "execute_result"
    },
    {
     "data": {
      "image/png": "[encoded data removed]",
      "text/plain": [
       "<Figure size 440x648 with 6 Axes>"
      ]
     },
     "metadata": {
      "needs_background": "light"
     },
     "output_type": "display_data"
    }
   ],
   "source": [
    "grid=sn.FacetGrid(train_df,row='Embarked',col='Survived')\n",
    "grid.map(sn.barplot,'Sex','Fare')\n",
    "grid.add_legend()"
   ]
  },
  {
   "cell_type": "code",
   "execution_count": 58,
   "metadata": {},
   "outputs": [
    {
     "data": {
      "text/plain": [
       "[     PassengerId  Survived  Pclass  \\\n",
       " 0              1         0       3   \n",
       " 1              2         1       1   \n",
       " 2              3         1       3   \n",
       " 3              4         1       1   \n",
       " 4              5         0       3   \n",
       " 5              6         0       3   \n",
       " 6              7         0       1   \n",
       " 7              8         0       3   \n",
       " 8              9         1       3   \n",
       " 9             10         1       2   \n",
       " 10            11         1       3   \n",
       " 11            12         1       1   \n",
       " 12            13         0       3   \n",
       " 13            14         0       3   \n",
       " 14            15         0       3   \n",
       " 15            16         1       2   \n",
       " 16            17         0       3   \n",
       " 17            18         1       2   \n",
       " 18            19         0       3   \n",
       " 19            20         1       3   \n",
       " 20            21         0       2   \n",
       " 21            22         1       2   \n",
       " 22            23         1       3   \n",
       " 23            24         1       1   \n",
       " 24            25         0       3   \n",
       " 25            26         1       3   \n",
       " 26            27         0       3   \n",
       " 27            28         0       1   \n",
       " 28            29         1       3   \n",
       " 29            30         0       3   \n",
       " ..           ...       ...     ...   \n",
       " 861          862         0       2   \n",
       " 862          863         1       1   \n",
       " 863          864         0       3   \n",
       " 864          865         0       2   \n",
       " 865          866         1       2   \n",
       " 866          867         1       2   \n",
       " 867          868         0       1   \n",
       " 868          869         0       3   \n",
       " 869          870         1       3   \n",
       " 870          871         0       3   \n",
       " 871          872         1       1   \n",
       " 872          873         0       1   \n",
       " 873          874         0       3   \n",
       " 874          875         1       2   \n",
       " 875          876         1       3   \n",
       " 876          877         0       3   \n",
       " 877          878         0       3   \n",
       " 878          879         0       3   \n",
       " 879          880         1       1   \n",
       " 880          881         1       2   \n",
       " 881          882         0       3   \n",
       " 882          883         0       3   \n",
       " 883          884         0       2   \n",
       " 884          885         0       3   \n",
       " 885          886         0       3   \n",
       " 886          887         0       2   \n",
       " 887          888         1       1   \n",
       " 888          889         0       3   \n",
       " 889          890         1       1   \n",
       " 890          891         0       3   \n",
       " \n",
       "                                                   Name     Sex   Age  SibSp  \\\n",
       " 0                              Braund, Mr. Owen Harris    male  22.0      1   \n",
       " 1    Cumings, Mrs. John Bradley (Florence Briggs Th...  female  38.0      1   \n",
       " 2                               Heikkinen, Miss. Laina  female  26.0      0   \n",
       " 3         Futrelle, Mrs. Jacques Heath (Lily May Peel)  female  35.0      1   \n",
       " 4                             Allen, Mr. William Henry    male  35.0      0   \n",
       " 5                                     Moran, Mr. James    male   NaN      0   \n",
       " 6                              McCarthy, Mr. Timothy J    male  54.0      0   \n",
       " 7                       Palsson, Master. Gosta Leonard    male   2.0      3   \n",
       " 8    Johnson, Mrs. Oscar W (Elisabeth Vilhelmina Berg)  female  27.0      0   \n",
       " 9                  Nasser, Mrs. Nicholas (Adele Achem)  female  14.0      1   \n",
       " 10                     Sandstrom, Miss. Marguerite Rut  female   4.0      1   \n",
       " 11                            Bonnell, Miss. Elizabeth  female  58.0      0   \n",
       " 12                      Saundercock, Mr. William Henry    male  20.0      0   \n",
       " 13                         Andersson, Mr. Anders Johan    male  39.0      1   \n",
       " 14                Vestrom, Miss. Hulda Amanda Adolfina  female  14.0      0   \n",
       " 15                    Hewlett, Mrs. (Mary D Kingcome)   female  55.0      0   \n",
       " 16                                Rice, Master. Eugene    male   2.0      4   \n",
       " 17                        Williams, Mr. Charles Eugene    male   NaN      0   \n",
       " 18   Vander Planke, Mrs. Julius (Emelia Maria Vande...  female  31.0      1   \n",
       " 19                             Masselmani, Mrs. Fatima  female   NaN      0   \n",
       " 20                                Fynney, Mr. Joseph J    male  35.0      0   \n",
       " 21                               Beesley, Mr. Lawrence    male  34.0      0   \n",
       " 22                         McGowan, Miss. Anna \"Annie\"  female  15.0      0   \n",
       " 23                        Sloper, Mr. William Thompson    male  28.0      0   \n",
       " 24                       Palsson, Miss. Torborg Danira  female   8.0      3   \n",
       " 25   Asplund, Mrs. Carl Oscar (Selma Augusta Emilia...  female  38.0      1   \n",
       " 26                             Emir, Mr. Farred Chehab    male   NaN      0   \n",
       " 27                      Fortune, Mr. Charles Alexander    male  19.0      3   \n",
       " 28                       O'Dwyer, Miss. Ellen \"Nellie\"  female   NaN      0   \n",
       " 29                                 Todoroff, Mr. Lalio    male   NaN      0   \n",
       " ..                                                 ...     ...   ...    ...   \n",
       " 861                        Giles, Mr. Frederick Edward    male  21.0      1   \n",
       " 862  Swift, Mrs. Frederick Joel (Margaret Welles Ba...  female  48.0      0   \n",
       " 863                  Sage, Miss. Dorothy Edith \"Dolly\"  female   NaN      8   \n",
       " 864                             Gill, Mr. John William    male  24.0      0   \n",
       " 865                           Bystrom, Mrs. (Karolina)  female  42.0      0   \n",
       " 866                       Duran y More, Miss. Asuncion  female  27.0      1   \n",
       " 867               Roebling, Mr. Washington Augustus II    male  31.0      0   \n",
       " 868                        van Melkebeke, Mr. Philemon    male   NaN      0   \n",
       " 869                    Johnson, Master. Harold Theodor    male   4.0      1   \n",
       " 870                                  Balkic, Mr. Cerin    male  26.0      0   \n",
       " 871   Beckwith, Mrs. Richard Leonard (Sallie Monypeny)  female  47.0      1   \n",
       " 872                           Carlsson, Mr. Frans Olof    male  33.0      0   \n",
       " 873                        Vander Cruyssen, Mr. Victor    male  47.0      0   \n",
       " 874              Abelson, Mrs. Samuel (Hannah Wizosky)  female  28.0      1   \n",
       " 875                   Najib, Miss. Adele Kiamie \"Jane\"  female  15.0      0   \n",
       " 876                      Gustafsson, Mr. Alfred Ossian    male  20.0      0   \n",
       " 877                               Petroff, Mr. Nedelio    male  19.0      0   \n",
       " 878                                 Laleff, Mr. Kristo    male   NaN      0   \n",
       " 879      Potter, Mrs. Thomas Jr (Lily Alexenia Wilson)  female  56.0      0   \n",
       " 880       Shelley, Mrs. William (Imanita Parrish Hall)  female  25.0      0   \n",
       " 881                                 Markun, Mr. Johann    male  33.0      0   \n",
       " 882                       Dahlberg, Miss. Gerda Ulrika  female  22.0      0   \n",
       " 883                      Banfield, Mr. Frederick James    male  28.0      0   \n",
       " 884                             Sutehall, Mr. Henry Jr    male  25.0      0   \n",
       " 885               Rice, Mrs. William (Margaret Norton)  female  39.0      0   \n",
       " 886                              Montvila, Rev. Juozas    male  27.0      0   \n",
       " 887                       Graham, Miss. Margaret Edith  female  19.0      0   \n",
       " 888           Johnston, Miss. Catherine Helen \"Carrie\"  female   NaN      1   \n",
       " 889                              Behr, Mr. Karl Howell    male  26.0      0   \n",
       " 890                                Dooley, Mr. Patrick    male  32.0      0   \n",
       " \n",
       "      Parch            Ticket      Fare        Cabin Embarked  \n",
       " 0        0         A/5 21171    7.2500          NaN        S  \n",
       " 1        0          PC 17599   71.2833          C85        C  \n",
       " 2        0  STON/O2. 3101282    7.9250          NaN        S  \n",
       " 3        0            113803   53.1000         C123        S  \n",
       " 4        0            373450    8.0500          NaN        S  \n",
       " 5        0            330877    8.4583          NaN        Q  \n",
       " 6        0             17463   51.8625          E46        S  \n",
       " 7        1            349909   21.0750          NaN        S  \n",
       " 8        2            347742   11.1333          NaN        S  \n",
       " 9        0            237736   30.0708          NaN        C  \n",
       " 10       1           PP 9549   16.7000           G6        S  \n",
       " 11       0            113783   26.5500         C103        S  \n",
       " 12       0         A/5. 2151    8.0500          NaN        S  \n",
       " 13       5            347082   31.2750          NaN        S  \n",
       " 14       0            350406    7.8542          NaN        S  \n",
       " 15       0            248706   16.0000          NaN        S  \n",
       " 16       1            382652   29.1250          NaN        Q  \n",
       " 17       0            244373   13.0000          NaN        S  \n",
       " 18       0            345763   18.0000          NaN        S  \n",
       " 19       0              2649    7.2250          NaN        C  \n",
       " 20       0            239865   26.0000          NaN        S  \n",
       " 21       0            248698   13.0000          D56        S  \n",
       " 22       0            330923    8.0292          NaN        Q  \n",
       " 23       0            113788   35.5000           A6        S  \n",
       " 24       1            349909   21.0750          NaN        S  \n",
       " 25       5            347077   31.3875          NaN        S  \n",
       " 26       0              2631    7.2250          NaN        C  \n",
       " 27       2             19950  263.0000  C23 C25 C27        S  \n",
       " 28       0            330959    7.8792          NaN        Q  \n",
       " 29       0            349216    7.8958          NaN        S  \n",
       " ..     ...               ...       ...          ...      ...  \n",
       " 861      0             28134   11.5000          NaN        S  \n",
       " 862      0             17466   25.9292          D17        S  \n",
       " 863      2          CA. 2343   69.5500          NaN        S  \n",
       " 864      0            233866   13.0000          NaN        S  \n",
       " 865      0            236852   13.0000          NaN        S  \n",
       " 866      0     SC/PARIS 2149   13.8583          NaN        C  \n",
       " 867      0          PC 17590   50.4958          A24        S  \n",
       " 868      0            345777    9.5000          NaN        S  \n",
       " 869      1            347742   11.1333          NaN        S  \n",
       " 870      0            349248    7.8958          NaN        S  \n",
       " 871      1             11751   52.5542          D35        S  \n",
       " 872      0               695    5.0000  B51 B53 B55        S  \n",
       " 873      0            345765    9.0000          NaN        S  \n",
       " 874      0         P/PP 3381   24.0000          NaN        C  \n",
       " 875      0              2667    7.2250          NaN        C  \n",
       " 876      0              7534    9.8458          NaN        S  \n",
       " 877      0            349212    7.8958          NaN        S  \n",
       " 878      0            349217    7.8958          NaN        S  \n",
       " 879      1             11767   83.1583          C50        C  \n",
       " 880      1            230433   26.0000          NaN        S  \n",
       " 881      0            349257    7.8958          NaN        S  \n",
       " 882      0              7552   10.5167          NaN        S  \n",
       " 883      0  C.A./SOTON 34068   10.5000          NaN        S  \n",
       " 884      0   SOTON/OQ 392076    7.0500          NaN        S  \n",
       " 885      5            382652   29.1250          NaN        Q  \n",
       " 886      0            211536   13.0000          NaN        S  \n",
       " 887      0            112053   30.0000          B42        S  \n",
       " 888      2        W./C. 6607   23.4500          NaN        S  \n",
       " 889      0            111369   30.0000         C148        C  \n",
       " 890      0            370376    7.7500          NaN        Q  \n",
       " \n",
       " [891 rows x 12 columns],\n",
       "      PassengerId  Pclass                                               Name  \\\n",
       " 0            892       3                                   Kelly, Mr. James   \n",
       " 1            893       3                   Wilkes, Mrs. James (Ellen Needs)   \n",
       " 2            894       2                          Myles, Mr. Thomas Francis   \n",
       " 3            895       3                                   Wirz, Mr. Albert   \n",
       " 4            896       3       Hirvonen, Mrs. Alexander (Helga E Lindqvist)   \n",
       " 5            897       3                         Svensson, Mr. Johan Cervin   \n",
       " 6            898       3                               Connolly, Miss. Kate   \n",
       " 7            899       2                       Caldwell, Mr. Albert Francis   \n",
       " 8            900       3          Abrahim, Mrs. Joseph (Sophie Halaut Easu)   \n",
       " 9            901       3                            Davies, Mr. John Samuel   \n",
       " 10           902       3                                   Ilieff, Mr. Ylio   \n",
       " 11           903       1                         Jones, Mr. Charles Cresson   \n",
       " 12           904       1      Snyder, Mrs. John Pillsbury (Nelle Stevenson)   \n",
       " 13           905       2                               Howard, Mr. Benjamin   \n",
       " 14           906       1  Chaffee, Mrs. Herbert Fuller (Carrie Constance...   \n",
       " 15           907       2      del Carlo, Mrs. Sebastiano (Argenia Genovesi)   \n",
       " 16           908       2                                  Keane, Mr. Daniel   \n",
       " 17           909       3                                  Assaf, Mr. Gerios   \n",
       " 18           910       3                       Ilmakangas, Miss. Ida Livija   \n",
       " 19           911       3              Assaf Khalil, Mrs. Mariana (Miriam\")\"   \n",
       " 20           912       1                             Rothschild, Mr. Martin   \n",
       " 21           913       3                          Olsen, Master. Artur Karl   \n",
       " 22           914       1               Flegenheim, Mrs. Alfred (Antoinette)   \n",
       " 23           915       1                    Williams, Mr. Richard Norris II   \n",
       " 24           916       1    Ryerson, Mrs. Arthur Larned (Emily Maria Borie)   \n",
       " 25           917       3                            Robins, Mr. Alexander A   \n",
       " 26           918       1                       Ostby, Miss. Helene Ragnhild   \n",
       " 27           919       3                                  Daher, Mr. Shedid   \n",
       " 28           920       1                            Brady, Mr. John Bertram   \n",
       " 29           921       3                                  Samaan, Mr. Elias   \n",
       " ..           ...     ...                                                ...   \n",
       " 388         1280       3                               Canavan, Mr. Patrick   \n",
       " 389         1281       3                        Palsson, Master. Paul Folke   \n",
       " 390         1282       1                         Payne, Mr. Vivian Ponsonby   \n",
       " 391         1283       1     Lines, Mrs. Ernest H (Elizabeth Lindsey James)   \n",
       " 392         1284       3                      Abbott, Master. Eugene Joseph   \n",
       " 393         1285       2                               Gilbert, Mr. William   \n",
       " 394         1286       3                           Kink-Heilmann, Mr. Anton   \n",
       " 395         1287       1     Smith, Mrs. Lucien Philip (Mary Eloise Hughes)   \n",
       " 396         1288       3                               Colbert, Mr. Patrick   \n",
       " 397         1289       1  Frolicher-Stehli, Mrs. Maxmillian (Margaretha ...   \n",
       " 398         1290       3                     Larsson-Rondberg, Mr. Edvard A   \n",
       " 399         1291       3                           Conlon, Mr. Thomas Henry   \n",
       " 400         1292       1                            Bonnell, Miss. Caroline   \n",
       " 401         1293       2                                    Gale, Mr. Harry   \n",
       " 402         1294       1                     Gibson, Miss. Dorothy Winifred   \n",
       " 403         1295       1                             Carrau, Mr. Jose Pedro   \n",
       " 404         1296       1                       Frauenthal, Mr. Isaac Gerald   \n",
       " 405         1297       2       Nourney, Mr. Alfred (Baron von Drachstedt\")\"   \n",
       " 406         1298       2                          Ware, Mr. William Jeffery   \n",
       " 407         1299       1                         Widener, Mr. George Dunton   \n",
       " 408         1300       3                    Riordan, Miss. Johanna Hannah\"\"   \n",
       " 409         1301       3                          Peacock, Miss. Treasteall   \n",
       " 410         1302       3                             Naughton, Miss. Hannah   \n",
       " 411         1303       1    Minahan, Mrs. William Edward (Lillian E Thorpe)   \n",
       " 412         1304       3                     Henriksson, Miss. Jenny Lovisa   \n",
       " 413         1305       3                                 Spector, Mr. Woolf   \n",
       " 414         1306       1                       Oliva y Ocana, Dona. Fermina   \n",
       " 415         1307       3                       Saether, Mr. Simon Sivertsen   \n",
       " 416         1308       3                                Ware, Mr. Frederick   \n",
       " 417         1309       3                           Peter, Master. Michael J   \n",
       " \n",
       "         Sex   Age  SibSp  Parch              Ticket      Fare  \\\n",
       " 0      male  34.5      0      0              330911    7.8292   \n",
       " 1    female  47.0      1      0              363272    7.0000   \n",
       " 2      male  62.0      0      0              240276    9.6875   \n",
       " 3      male  27.0      0      0              315154    8.6625   \n",
       " 4    female  22.0      1      1             3101298   12.2875   \n",
       " 5      male  14.0      0      0                7538    9.2250   \n",
       " 6    female  30.0      0      0              330972    7.6292   \n",
       " 7      male  26.0      1      1              248738   29.0000   \n",
       " 8    female  18.0      0      0                2657    7.2292   \n",
       " 9      male  21.0      2      0           A/4 48871   24.1500   \n",
       " 10     male   NaN      0      0              349220    7.8958   \n",
       " 11     male  46.0      0      0                 694   26.0000   \n",
       " 12   female  23.0      1      0               21228   82.2667   \n",
       " 13     male  63.0      1      0               24065   26.0000   \n",
       " 14   female  47.0      1      0         W.E.P. 5734   61.1750   \n",
       " 15   female  24.0      1      0       SC/PARIS 2167   27.7208   \n",
       " 16     male  35.0      0      0              233734   12.3500   \n",
       " 17     male  21.0      0      0                2692    7.2250   \n",
       " 18   female  27.0      1      0    STON/O2. 3101270    7.9250   \n",
       " 19   female  45.0      0      0                2696    7.2250   \n",
       " 20     male  55.0      1      0            PC 17603   59.4000   \n",
       " 21     male   9.0      0      1             C 17368    3.1708   \n",
       " 22   female   NaN      0      0            PC 17598   31.6833   \n",
       " 23     male  21.0      0      1            PC 17597   61.3792   \n",
       " 24   female  48.0      1      3            PC 17608  262.3750   \n",
       " 25     male  50.0      1      0           A/5. 3337   14.5000   \n",
       " 26   female  22.0      0      1              113509   61.9792   \n",
       " 27     male  22.5      0      0                2698    7.2250   \n",
       " 28     male  41.0      0      0              113054   30.5000   \n",
       " 29     male   NaN      2      0                2662   21.6792   \n",
       " ..      ...   ...    ...    ...                 ...       ...   \n",
       " 388    male  21.0      0      0              364858    7.7500   \n",
       " 389    male   6.0      3      1              349909   21.0750   \n",
       " 390    male  23.0      0      0               12749   93.5000   \n",
       " 391  female  51.0      0      1            PC 17592   39.4000   \n",
       " 392    male  13.0      0      2           C.A. 2673   20.2500   \n",
       " 393    male  47.0      0      0          C.A. 30769   10.5000   \n",
       " 394    male  29.0      3      1              315153   22.0250   \n",
       " 395  female  18.0      1      0               13695   60.0000   \n",
       " 396    male  24.0      0      0              371109    7.2500   \n",
       " 397  female  48.0      1      1               13567   79.2000   \n",
       " 398    male  22.0      0      0              347065    7.7750   \n",
       " 399    male  31.0      0      0               21332    7.7333   \n",
       " 400  female  30.0      0      0               36928  164.8667   \n",
       " 401    male  38.0      1      0               28664   21.0000   \n",
       " 402  female  22.0      0      1              112378   59.4000   \n",
       " 403    male  17.0      0      0              113059   47.1000   \n",
       " 404    male  43.0      1      0               17765   27.7208   \n",
       " 405    male  20.0      0      0       SC/PARIS 2166   13.8625   \n",
       " 406    male  23.0      1      0               28666   10.5000   \n",
       " 407    male  50.0      1      1              113503  211.5000   \n",
       " 408  female   NaN      0      0              334915    7.7208   \n",
       " 409  female   3.0      1      1  SOTON/O.Q. 3101315   13.7750   \n",
       " 410  female   NaN      0      0              365237    7.7500   \n",
       " 411  female  37.0      1      0               19928   90.0000   \n",
       " 412  female  28.0      0      0              347086    7.7750   \n",
       " 413    male   NaN      0      0           A.5. 3236    8.0500   \n",
       " 414  female  39.0      0      0            PC 17758  108.9000   \n",
       " 415    male  38.5      0      0  SOTON/O.Q. 3101262    7.2500   \n",
       " 416    male   NaN      0      0              359309    8.0500   \n",
       " 417    male   NaN      1      1                2668   22.3583   \n",
       " \n",
       "                Cabin Embarked  \n",
       " 0                NaN        Q  \n",
       " 1                NaN        S  \n",
       " 2                NaN        Q  \n",
       " 3                NaN        S  \n",
       " 4                NaN        S  \n",
       " 5                NaN        S  \n",
       " 6                NaN        Q  \n",
       " 7                NaN        S  \n",
       " 8                NaN        C  \n",
       " 9                NaN        S  \n",
       " 10               NaN        S  \n",
       " 11               NaN        S  \n",
       " 12               B45        S  \n",
       " 13               NaN        S  \n",
       " 14               E31        S  \n",
       " 15               NaN        C  \n",
       " 16               NaN        Q  \n",
       " 17               NaN        C  \n",
       " 18               NaN        S  \n",
       " 19               NaN        C  \n",
       " 20               NaN        C  \n",
       " 21               NaN        S  \n",
       " 22               NaN        S  \n",
       " 23               NaN        C  \n",
       " 24   B57 B59 B63 B66        C  \n",
       " 25               NaN        S  \n",
       " 26               B36        C  \n",
       " 27               NaN        C  \n",
       " 28               A21        S  \n",
       " 29               NaN        C  \n",
       " ..               ...      ...  \n",
       " 388              NaN        Q  \n",
       " 389              NaN        S  \n",
       " 390              B24        S  \n",
       " 391              D28        S  \n",
       " 392              NaN        S  \n",
       " 393              NaN        S  \n",
       " 394              NaN        S  \n",
       " 395              C31        S  \n",
       " 396              NaN        Q  \n",
       " 397              B41        C  \n",
       " 398              NaN        S  \n",
       " 399              NaN        Q  \n",
       " 400               C7        S  \n",
       " 401              NaN        S  \n",
       " 402              NaN        C  \n",
       " 403              NaN        S  \n",
       " 404              D40        C  \n",
       " 405              D38        C  \n",
       " 406              NaN        S  \n",
       " 407              C80        C  \n",
       " 408              NaN        Q  \n",
       " 409              NaN        S  \n",
       " 410              NaN        Q  \n",
       " 411              C78        Q  \n",
       " 412              NaN        S  \n",
       " 413              NaN        S  \n",
       " 414             C105        C  \n",
       " 415              NaN        S  \n",
       " 416              NaN        S  \n",
       " 417              NaN        C  \n",
       " \n",
       " [418 rows x 11 columns]]"
      ]
     },
     "execution_count": 58,
     "metadata": {},
     "output_type": "execute_result"
    }
   ],
   "source": [
    "combine"
   ]
  },
  {
   "cell_type": "code",
   "execution_count": null,
   "metadata": {},
   "outputs": [],
   "source": [
    "print(os.listdir(nltk.data.find(\"corpora\")))"
   ]
  }
 ],
 "metadata": {
  "kernelspec": {
   "display_name": "Python 3",
   "language": "python",
   "name": "python3"
  },
  "language_info": {
   "codemirror_mode": {
    "name": "ipython",
    "version": 3
   },
   "file_extension": ".py",
   "mimetype": "text/x-python",
   "name": "python",
   "nbconvert_exporter": "python",
   "pygments_lexer": "ipython3",
   "version": "3.7.0"
  }
 },
 "nbformat": 4,
 "nbformat_minor": 2
}
